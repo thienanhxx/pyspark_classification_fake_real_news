{
 "cells": [
  {
   "cell_type": "code",
   "execution_count": 1,
   "id": "d3e69c0b-1d0e-4d9a-8899-4c930ffbf262",
   "metadata": {},
   "outputs": [],
   "source": [
    "import findspark\n",
    "findspark.init()"
   ]
  },
  {
   "cell_type": "code",
   "execution_count": 2,
   "id": "d3fa5508-5546-479a-a9cf-750f676e8272",
   "metadata": {},
   "outputs": [],
   "source": [
    "from pyspark.sql import SparkSession\n",
    "from pyspark import SparkContext\n",
    "from pyspark.sql import SQLContext"
   ]
  },
  {
   "cell_type": "code",
   "execution_count": 3,
   "id": "19d0707e-072b-47f6-a4b5-1c8d6595f189",
   "metadata": {},
   "outputs": [],
   "source": [
    "from pyspark.sql import SparkSession\n",
    "from pyspark.sql.functions import length\n",
    "from pyspark.ml.feature import Tokenizer, StopWordsRemover\n",
    "from pyspark.ml.feature import CountVectorizer, IDF, StringIndexer\n",
    "from pyspark.ml.classification import NaiveBayes, RandomForestClassifier, GBTClassifier\n",
    "from pyspark.ml import Pipeline\n",
    "from pyspark.ml.evaluation import MulticlassClassificationEvaluator\n",
    "from pyspark.ml.feature import VectorAssembler\n",
    "from pyspark.ml.linalg import Vector\n",
    "from pyspark.sql.functions import *\n",
    "from pyspark.sql.types import *"
   ]
  },
  {
   "cell_type": "code",
   "execution_count": 4,
   "id": "392c39a1-5dbb-44b9-9a9b-bc29821b4170",
   "metadata": {},
   "outputs": [],
   "source": [
    "sc = SparkContext()"
   ]
  },
  {
   "cell_type": "code",
   "execution_count": 5,
   "id": "0a09de6a-66fa-4a15-a89e-a021e87b8ecf",
   "metadata": {},
   "outputs": [],
   "source": [
    "spark = SparkSession(sc)"
   ]
  },
  {
   "cell_type": "markdown",
   "id": "a3901d92-cc58-4d30-b061-fc6be6f63000",
   "metadata": {},
   "source": [
    "### Read the dataset"
   ]
  },
  {
   "cell_type": "code",
   "execution_count": 6,
   "id": "d7316802-276d-488e-b0ef-1886f4a44582",
   "metadata": {},
   "outputs": [],
   "source": [
    "# Read fake.csv\n",
    "fake = spark.read.csv('Du_lieu_cung_cap/fake-and-real-news-dataset/Fake.csv', header=True, inferSchema=True)"
   ]
  },
  {
   "cell_type": "code",
   "execution_count": 7,
   "id": "1d4aa405-cd2f-4524-b784-01542cc41abd",
   "metadata": {},
   "outputs": [
    {
     "name": "stdout",
     "output_type": "stream",
     "text": [
      "+--------------------+--------------------+-------+-----------------+\n",
      "|               title|                text|subject|             date|\n",
      "+--------------------+--------------------+-------+-----------------+\n",
      "| Donald Trump Sen...|Donald Trump just...|   News|December 31, 2017|\n",
      "| Drunk Bragging T...|House Intelligenc...|   News|December 31, 2017|\n",
      "| Sheriff David Cl...|On Friday, it was...|   News|December 30, 2017|\n",
      "| Trump Is So Obse...|On Christmas day,...|   News|December 29, 2017|\n",
      "| Pope Francis Jus...|Pope Francis used...|   News|December 25, 2017|\n",
      "+--------------------+--------------------+-------+-----------------+\n",
      "only showing top 5 rows\n",
      "\n"
     ]
    }
   ],
   "source": [
    "fake.show(5)"
   ]
  },
  {
   "cell_type": "code",
   "execution_count": 8,
   "id": "1d123d1d-c586-446a-af4f-ab70d657df3c",
   "metadata": {},
   "outputs": [
    {
     "name": "stdout",
     "output_type": "stream",
     "text": [
      "+--------------------+--------------------+-------+-----------------+-----+\n",
      "|               title|                text|subject|             date|class|\n",
      "+--------------------+--------------------+-------+-----------------+-----+\n",
      "| Donald Trump Sen...|Donald Trump just...|   News|December 31, 2017| fake|\n",
      "| Drunk Bragging T...|House Intelligenc...|   News|December 31, 2017| fake|\n",
      "| Sheriff David Cl...|On Friday, it was...|   News|December 30, 2017| fake|\n",
      "+--------------------+--------------------+-------+-----------------+-----+\n",
      "only showing top 3 rows\n",
      "\n"
     ]
    }
   ],
   "source": [
    "# Add 'class' column\n",
    "fake = fake.withColumn('class', lit('fake'))\n",
    "fake.show(3)"
   ]
  },
  {
   "cell_type": "code",
   "execution_count": 9,
   "id": "2cb6ed68-4a0a-4f68-a964-dd16379d1afd",
   "metadata": {},
   "outputs": [
    {
     "name": "stdout",
     "output_type": "stream",
     "text": [
      "root\n",
      " |-- title: string (nullable = true)\n",
      " |-- text: string (nullable = true)\n",
      " |-- subject: string (nullable = true)\n",
      " |-- date: string (nullable = true)\n",
      " |-- class: string (nullable = false)\n",
      "\n"
     ]
    }
   ],
   "source": [
    "fake.printSchema()"
   ]
  },
  {
   "cell_type": "code",
   "execution_count": 10,
   "id": "43f7a663-dd55-4ef3-9df4-670fa1d5ad1f",
   "metadata": {},
   "outputs": [
    {
     "data": {
      "text/plain": [
       "23489"
      ]
     },
     "execution_count": 10,
     "metadata": {},
     "output_type": "execute_result"
    }
   ],
   "source": [
    "fake.count()"
   ]
  },
  {
   "cell_type": "code",
   "execution_count": 11,
   "id": "b3659cd4-76ac-4855-b5c0-ae20c7b3e739",
   "metadata": {},
   "outputs": [],
   "source": [
    "# Read fake.csv\n",
    "true = spark.read.csv('Du_lieu_cung_cap/fake-and-real-news-dataset/True.csv', header=True, inferSchema=True)"
   ]
  },
  {
   "cell_type": "code",
   "execution_count": 12,
   "id": "c8a577f7-e461-48cb-a797-abed4261db1e",
   "metadata": {},
   "outputs": [
    {
     "name": "stdout",
     "output_type": "stream",
     "text": [
      "+--------------------+--------------------+------------+------------------+\n",
      "|               title|                text|     subject|              date|\n",
      "+--------------------+--------------------+------------+------------------+\n",
      "|As U.S. budget fi...|WASHINGTON (Reute...|politicsNews|December 31, 2017 |\n",
      "|U.S. military to ...|WASHINGTON (Reute...|politicsNews|December 29, 2017 |\n",
      "|Senior U.S. Repub...|WASHINGTON (Reute...|politicsNews|December 31, 2017 |\n",
      "|FBI Russia probe ...|WASHINGTON (Reute...|politicsNews|December 30, 2017 |\n",
      "|Trump wants Posta...|SEATTLE/WASHINGTO...|politicsNews|December 29, 2017 |\n",
      "+--------------------+--------------------+------------+------------------+\n",
      "only showing top 5 rows\n",
      "\n"
     ]
    }
   ],
   "source": [
    "true.show(5)"
   ]
  },
  {
   "cell_type": "code",
   "execution_count": 13,
   "id": "afaa9244-f2e1-4bda-9f2c-dbd41069e665",
   "metadata": {},
   "outputs": [
    {
     "name": "stdout",
     "output_type": "stream",
     "text": [
      "+--------------------+--------------------+------------+------------------+-----+\n",
      "|               title|                text|     subject|              date|class|\n",
      "+--------------------+--------------------+------------+------------------+-----+\n",
      "|As U.S. budget fi...|WASHINGTON (Reute...|politicsNews|December 31, 2017 | true|\n",
      "|U.S. military to ...|WASHINGTON (Reute...|politicsNews|December 29, 2017 | true|\n",
      "|Senior U.S. Repub...|WASHINGTON (Reute...|politicsNews|December 31, 2017 | true|\n",
      "+--------------------+--------------------+------------+------------------+-----+\n",
      "only showing top 3 rows\n",
      "\n"
     ]
    }
   ],
   "source": [
    "# Add 'class' column\n",
    "true = true.withColumn('class', lit('true'))\n",
    "true.show(3)"
   ]
  },
  {
   "cell_type": "code",
   "execution_count": 14,
   "id": "6169dbb9-e0d6-4e5f-b7b2-713c23cac2c5",
   "metadata": {},
   "outputs": [
    {
     "name": "stdout",
     "output_type": "stream",
     "text": [
      "root\n",
      " |-- title: string (nullable = true)\n",
      " |-- text: string (nullable = true)\n",
      " |-- subject: string (nullable = true)\n",
      " |-- date: string (nullable = true)\n",
      " |-- class: string (nullable = false)\n",
      "\n"
     ]
    }
   ],
   "source": [
    "true.printSchema()"
   ]
  },
  {
   "cell_type": "code",
   "execution_count": 15,
   "id": "063b612e-2c8f-4a04-b6a5-e0aa2e70cf52",
   "metadata": {},
   "outputs": [
    {
     "data": {
      "text/plain": [
       "21417"
      ]
     },
     "execution_count": 15,
     "metadata": {},
     "output_type": "execute_result"
    }
   ],
   "source": [
    "true.count()"
   ]
  },
  {
   "cell_type": "code",
   "execution_count": 16,
   "id": "ae8f1006-49fa-4e21-8f64-339662bcb4b5",
   "metadata": {},
   "outputs": [],
   "source": [
    "# Concate 2 dataframes \n",
    "data = fake.union(true)"
   ]
  },
  {
   "cell_type": "code",
   "execution_count": 17,
   "id": "0c17df76-fb1c-4480-ac1a-5b5116611e7b",
   "metadata": {},
   "outputs": [
    {
     "data": {
      "text/plain": [
       "44906"
      ]
     },
     "execution_count": 17,
     "metadata": {},
     "output_type": "execute_result"
    }
   ],
   "source": [
    "# Count number of rows\n",
    "data.count()"
   ]
  },
  {
   "cell_type": "code",
   "execution_count": 18,
   "id": "9463d0ed-3dd6-4b0f-a2a3-7a627b0334a1",
   "metadata": {},
   "outputs": [
    {
     "name": "stdout",
     "output_type": "stream",
     "text": [
      "+-----+-----+\n",
      "|class|count|\n",
      "+-----+-----+\n",
      "| fake|23489|\n",
      "| true|21417|\n",
      "+-----+-----+\n",
      "\n"
     ]
    }
   ],
   "source": [
    "# Count number of each groups\n",
    "data.groupBy('class').count().show()"
   ]
  },
  {
   "cell_type": "markdown",
   "id": "625f83d2-a14d-4f9e-b706-13499d0e7998",
   "metadata": {},
   "source": [
    "### Clean and Prepare the data"
   ]
  },
  {
   "cell_type": "code",
   "execution_count": 19,
   "id": "d4c50226-cfb0-4e43-98f7-097215010e8f",
   "metadata": {},
   "outputs": [],
   "source": [
    "data = data.select('text', 'class')"
   ]
  },
  {
   "cell_type": "code",
   "execution_count": 20,
   "id": "98659a83-875d-4ee6-90be-0429e57ef85d",
   "metadata": {},
   "outputs": [
    {
     "data": {
      "text/html": [
       "<div>\n",
       "<style scoped>\n",
       "    .dataframe tbody tr th:only-of-type {\n",
       "        vertical-align: middle;\n",
       "    }\n",
       "\n",
       "    .dataframe tbody tr th {\n",
       "        vertical-align: top;\n",
       "    }\n",
       "\n",
       "    .dataframe thead th {\n",
       "        text-align: right;\n",
       "    }\n",
       "</style>\n",
       "<table border=\"1\" class=\"dataframe\">\n",
       "  <thead>\n",
       "    <tr style=\"text-align: right;\">\n",
       "      <th></th>\n",
       "      <th>text</th>\n",
       "      <th>class</th>\n",
       "    </tr>\n",
       "  </thead>\n",
       "  <tbody>\n",
       "    <tr>\n",
       "      <th>0</th>\n",
       "      <td>8</td>\n",
       "      <td>0</td>\n",
       "    </tr>\n",
       "  </tbody>\n",
       "</table>\n",
       "</div>"
      ],
      "text/plain": [
       "   text  class\n",
       "0     8      0"
      ]
     },
     "execution_count": 20,
     "metadata": {},
     "output_type": "execute_result"
    }
   ],
   "source": [
    "# Check null\n",
    "data.select([count(when(col(c).isNull(), c)).alias(c) for c in data.columns]).toPandas()"
   ]
  },
  {
   "cell_type": "code",
   "execution_count": 21,
   "id": "81a2e97b-42dc-4c9f-b50b-7c9017633531",
   "metadata": {},
   "outputs": [
    {
     "data": {
      "text/html": [
       "<div>\n",
       "<style scoped>\n",
       "    .dataframe tbody tr th:only-of-type {\n",
       "        vertical-align: middle;\n",
       "    }\n",
       "\n",
       "    .dataframe tbody tr th {\n",
       "        vertical-align: top;\n",
       "    }\n",
       "\n",
       "    .dataframe thead th {\n",
       "        text-align: right;\n",
       "    }\n",
       "</style>\n",
       "<table border=\"1\" class=\"dataframe\">\n",
       "  <thead>\n",
       "    <tr style=\"text-align: right;\">\n",
       "      <th></th>\n",
       "      <th>text</th>\n",
       "      <th>class</th>\n",
       "    </tr>\n",
       "  </thead>\n",
       "  <tbody>\n",
       "    <tr>\n",
       "      <th>0</th>\n",
       "      <td>0</td>\n",
       "      <td>0</td>\n",
       "    </tr>\n",
       "  </tbody>\n",
       "</table>\n",
       "</div>"
      ],
      "text/plain": [
       "   text  class\n",
       "0     0      0"
      ]
     },
     "execution_count": 21,
     "metadata": {},
     "output_type": "execute_result"
    }
   ],
   "source": [
    "data.select([count(when(isnan(c), c)).alias(c) for c in data.columns]).toPandas()"
   ]
  },
  {
   "cell_type": "code",
   "execution_count": 22,
   "id": "47faf868-453a-4613-8cb3-4c322cf6e448",
   "metadata": {},
   "outputs": [
    {
     "data": {
      "text/plain": [
       "44898"
      ]
     },
     "execution_count": 22,
     "metadata": {},
     "output_type": "execute_result"
    }
   ],
   "source": [
    "# Drop null value\n",
    "data = data.dropna()\n",
    "data.count()"
   ]
  },
  {
   "cell_type": "code",
   "execution_count": 23,
   "id": "b361e768-4ae1-4f3e-a40d-1fa298fe768f",
   "metadata": {},
   "outputs": [
    {
     "data": {
      "text/plain": [
       "6253"
      ]
     },
     "execution_count": 23,
     "metadata": {},
     "output_type": "execute_result"
    }
   ],
   "source": [
    "# Check duplicates\n",
    "dup_rows = data.count() - data.distinct().count()\n",
    "dup_rows"
   ]
  },
  {
   "cell_type": "markdown",
   "id": "26733839-174a-4d92-81e2-6d7a07140484",
   "metadata": {},
   "source": [
    "- Có dữ liệu bị duplicated"
   ]
  },
  {
   "cell_type": "code",
   "execution_count": 24,
   "id": "2faea870-74a6-4adb-b162-361881b43a38",
   "metadata": {},
   "outputs": [
    {
     "data": {
      "text/plain": [
       "38645"
      ]
     },
     "execution_count": 24,
     "metadata": {},
     "output_type": "execute_result"
    }
   ],
   "source": [
    "# Drop duplicates\n",
    "data = data.drop_duplicates()\n",
    "data.count()"
   ]
  },
  {
   "cell_type": "code",
   "execution_count": 25,
   "id": "408d96c2-608e-4ded-b288-bcd91a7d09d7",
   "metadata": {},
   "outputs": [
    {
     "name": "stdout",
     "output_type": "stream",
     "text": [
      "+--------------------+-----+------+\n",
      "|                text|class|length|\n",
      "+--------------------+-----+------+\n",
      "|Sunday morning, a...| fake|  2857|\n",
      "|This is yet anoth...| fake|  3586|\n",
      "|If Donald Trump h...| fake|  1862|\n",
      "|Donald Trump just...| fake|  2058|\n",
      "|Donald Trump is c...| fake|  1917|\n",
      "+--------------------+-----+------+\n",
      "only showing top 5 rows\n",
      "\n"
     ]
    }
   ],
   "source": [
    "# Create column 'length'\n",
    "data = data.withColumn('length', length(data['text']))\n",
    "data.show(5)"
   ]
  },
  {
   "cell_type": "code",
   "execution_count": 26,
   "id": "8f8cd5bf-76c7-4aeb-8452-7fde0ddce3c7",
   "metadata": {},
   "outputs": [
    {
     "name": "stdout",
     "output_type": "stream",
     "text": [
      "+-----+------------------+\n",
      "|class|       avg(length)|\n",
      "+-----+------------------+\n",
      "| fake|2475.3811952099927|\n",
      "| true| 2368.108248395621|\n",
      "+-----+------------------+\n",
      "\n"
     ]
    }
   ],
   "source": [
    "data.groupBy('class').mean().show()"
   ]
  },
  {
   "cell_type": "markdown",
   "id": "6683e41f-c02c-4122-a788-fab37b7d494d",
   "metadata": {},
   "source": [
    "- There is not much difference in length from fake and true news"
   ]
  },
  {
   "cell_type": "markdown",
   "id": "f6424781-7afd-4723-b449-e8384d754059",
   "metadata": {},
   "source": [
    "### Feature Transformations"
   ]
  },
  {
   "cell_type": "code",
   "execution_count": 27,
   "id": "8a38056f-0a3d-4c6f-96eb-e82f0acfe9f3",
   "metadata": {},
   "outputs": [],
   "source": [
    "fake_true_to_num = StringIndexer(inputCol='class', outputCol='label')\n",
    "\n",
    "tokenizer = Tokenizer(inputCol='text', outputCol='token_text')\n",
    "stopremove = StopWordsRemover(inputCol='token_text', outputCol='stop_token')\n",
    "count_vec = CountVectorizer(inputCol='stop_token', outputCol='c_vec')\n",
    "idf = IDF(inputCol='c_vec', outputCol='tf_idf')"
   ]
  },
  {
   "cell_type": "code",
   "execution_count": 28,
   "id": "c38167dd-4fe7-4a33-ba60-0aa0dab89281",
   "metadata": {},
   "outputs": [],
   "source": [
    "clean_up = VectorAssembler(inputCols=['tf_idf'], \n",
    "                           outputCol='features')"
   ]
  },
  {
   "cell_type": "markdown",
   "id": "1cc12048-5c2a-411e-9139-2959b7a787e7",
   "metadata": {},
   "source": [
    "### Pipeline"
   ]
  },
  {
   "cell_type": "code",
   "execution_count": 29,
   "id": "950a29e1-a5cd-4d73-95aa-f2b8e765dccb",
   "metadata": {},
   "outputs": [],
   "source": [
    "data_prep_pipe = Pipeline(stages=[fake_true_to_num,\n",
    "                                  tokenizer,\n",
    "                                  stopremove,\n",
    "                                  count_vec,\n",
    "                                  idf,\n",
    "                                  clean_up\n",
    "                                 ])"
   ]
  },
  {
   "cell_type": "code",
   "execution_count": 30,
   "id": "dca143e7-f9f0-48bc-81e2-874f6c99a397",
   "metadata": {},
   "outputs": [],
   "source": [
    "cleaner = data_prep_pipe.fit(data)"
   ]
  },
  {
   "cell_type": "code",
   "execution_count": 31,
   "id": "2c281077-071d-4ca1-9302-e0b1837301ed",
   "metadata": {},
   "outputs": [],
   "source": [
    "clean_data = cleaner.transform(data)"
   ]
  },
  {
   "cell_type": "markdown",
   "id": "1e93b8dc-174e-41da-ae5b-25e4a808cfc6",
   "metadata": {},
   "source": [
    "### Training and Evaluation"
   ]
  },
  {
   "cell_type": "code",
   "execution_count": 32,
   "id": "2a4815d4-fee7-4fc5-a668-ba956d166489",
   "metadata": {},
   "outputs": [
    {
     "name": "stdout",
     "output_type": "stream",
     "text": [
      "+-----+--------------------+\n",
      "|label|            features|\n",
      "+-----+--------------------+\n",
      "|  1.0|(262144,[0,1,3,4,...|\n",
      "|  1.0|(262144,[0,1,7,9,...|\n",
      "|  1.0|(262144,[0,1,2,4,...|\n",
      "|  1.0|(262144,[0,1,2,4,...|\n",
      "|  1.0|(262144,[0,1,2,4,...|\n",
      "+-----+--------------------+\n",
      "only showing top 5 rows\n",
      "\n"
     ]
    }
   ],
   "source": [
    "clean_data = clean_data.select('label', 'features')\n",
    "clean_data.show(5)"
   ]
  },
  {
   "cell_type": "code",
   "execution_count": 33,
   "id": "6db41e8a-0e2c-40d5-b223-a6e85b0be091",
   "metadata": {},
   "outputs": [],
   "source": [
    "# Split into training, testing set\n",
    "training, testing = clean_data.randomSplit([0.8, 0.2])"
   ]
  },
  {
   "cell_type": "markdown",
   "id": "298cf7a7-6271-4942-a38b-cfc457c5f11f",
   "metadata": {},
   "source": [
    "### Use NaiveBayes to predict model"
   ]
  },
  {
   "cell_type": "code",
   "execution_count": 34,
   "id": "9b92079b-d508-4560-86b0-af9f75ef643b",
   "metadata": {},
   "outputs": [],
   "source": [
    "nb = NaiveBayes()"
   ]
  },
  {
   "cell_type": "code",
   "execution_count": 35,
   "id": "cff07aa0-c2d7-4374-86ef-4073811ee84c",
   "metadata": {},
   "outputs": [],
   "source": [
    "predictor_nb = nb.fit(training)"
   ]
  },
  {
   "cell_type": "code",
   "execution_count": 36,
   "id": "422d2f1d-2818-4799-a369-2f60216f7997",
   "metadata": {},
   "outputs": [],
   "source": [
    "test_results_nb = predictor_nb.transform(testing)"
   ]
  },
  {
   "cell_type": "code",
   "execution_count": 37,
   "id": "a0cbeb1d-56a8-4b84-8ec4-cd0d8ff59b8e",
   "metadata": {},
   "outputs": [
    {
     "name": "stdout",
     "output_type": "stream",
     "text": [
      "+-----+--------------------+--------------------+--------------------+----------+\n",
      "|label|            features|       rawPrediction|         probability|prediction|\n",
      "+-----+--------------------+--------------------+--------------------+----------+\n",
      "|  0.0|(262144,[0,1,2,3,...|[-26238.441942200...|           [1.0,0.0]|       0.0|\n",
      "|  0.0|(262144,[0,1,2,3,...|[-17471.817844328...|           [1.0,0.0]|       0.0|\n",
      "|  0.0|(262144,[0,1,2,3,...|[-22623.605710002...|           [1.0,0.0]|       0.0|\n",
      "|  0.0|(262144,[0,1,2,3,...|[-9488.3940867271...|[1.0,4.3575672301...|       0.0|\n",
      "|  0.0|(262144,[0,1,2,3,...|[-18317.369734260...|           [1.0,0.0]|       0.0|\n",
      "+-----+--------------------+--------------------+--------------------+----------+\n",
      "only showing top 5 rows\n",
      "\n"
     ]
    }
   ],
   "source": [
    "test_results_nb.show(5)"
   ]
  },
  {
   "cell_type": "code",
   "execution_count": 38,
   "id": "4280e1c4-a108-42d4-9a2b-4ef4926eb97f",
   "metadata": {},
   "outputs": [
    {
     "name": "stdout",
     "output_type": "stream",
     "text": [
      "+-----+----------+-----+\n",
      "|label|prediction|count|\n",
      "+-----+----------+-----+\n",
      "|  1.0|       1.0| 3393|\n",
      "|  0.0|       1.0|   25|\n",
      "|  1.0|       0.0|   96|\n",
      "|  0.0|       0.0| 4167|\n",
      "+-----+----------+-----+\n",
      "\n"
     ]
    }
   ],
   "source": [
    "test_results_nb.groupBy('label', 'prediction').count().show()"
   ]
  },
  {
   "cell_type": "code",
   "execution_count": 39,
   "id": "28041827-f5ce-44db-a6a6-02011cde5e34",
   "metadata": {},
   "outputs": [
    {
     "name": "stdout",
     "output_type": "stream",
     "text": [
      "Accuracy of model using NaiveBayes is: 0.9842320189122389\n"
     ]
    }
   ],
   "source": [
    "acc_eval_nb = MulticlassClassificationEvaluator()\n",
    "acc_nb = acc_eval_nb.evaluate(test_results_nb)\n",
    "print('Accuracy of model using NaiveBayes is: {}'.format(acc_nb))"
   ]
  },
  {
   "cell_type": "markdown",
   "id": "600affc4-4e06-48a9-a205-44caaed832e9",
   "metadata": {},
   "source": [
    "### Use Random Forest to predict the model"
   ]
  },
  {
   "cell_type": "code",
   "execution_count": 40,
   "id": "4c82f4d4-b0d1-4e00-b926-11253df3b3f5",
   "metadata": {},
   "outputs": [],
   "source": [
    "rf = RandomForestClassifier()"
   ]
  },
  {
   "cell_type": "code",
   "execution_count": 41,
   "id": "3f2c6885-ae04-4d67-b200-4567cb0863ba",
   "metadata": {},
   "outputs": [],
   "source": [
    "predictor_rf = rf.fit(training)"
   ]
  },
  {
   "cell_type": "code",
   "execution_count": 42,
   "id": "a5058a97-c58a-498d-887f-45a3c28f2e98",
   "metadata": {},
   "outputs": [],
   "source": [
    "test_results_rf = predictor_rf.transform(testing)"
   ]
  },
  {
   "cell_type": "code",
   "execution_count": 43,
   "id": "434285c8-ca01-4a0c-aab2-9d0c69c09e39",
   "metadata": {},
   "outputs": [
    {
     "name": "stdout",
     "output_type": "stream",
     "text": [
      "+-----+--------------------+--------------------+--------------------+----------+\n",
      "|label|            features|       rawPrediction|         probability|prediction|\n",
      "+-----+--------------------+--------------------+--------------------+----------+\n",
      "|  0.0|(262144,[0,1,2,3,...|[12.0969949045104...|[0.60484974522552...|       0.0|\n",
      "|  0.0|(262144,[0,1,2,3,...|[13.7288336404883...|[0.68644168202441...|       0.0|\n",
      "|  0.0|(262144,[0,1,2,3,...|[11.5538763930763...|[0.57769381965381...|       0.0|\n",
      "|  0.0|(262144,[0,1,2,3,...|[12.7398412857785...|[0.63699206428892...|       0.0|\n",
      "|  0.0|(262144,[0,1,2,3,...|[12.8145650406246...|[0.64072825203123...|       0.0|\n",
      "+-----+--------------------+--------------------+--------------------+----------+\n",
      "only showing top 5 rows\n",
      "\n"
     ]
    }
   ],
   "source": [
    "test_results_rf.show(5)"
   ]
  },
  {
   "cell_type": "code",
   "execution_count": 44,
   "id": "f22d8771-e342-4bc1-9950-d37f05ed7ab1",
   "metadata": {},
   "outputs": [
    {
     "name": "stdout",
     "output_type": "stream",
     "text": [
      "+-----+----------+-----+\n",
      "|label|prediction|count|\n",
      "+-----+----------+-----+\n",
      "|  1.0|       1.0| 1800|\n",
      "|  0.0|       1.0|   29|\n",
      "|  1.0|       0.0| 1689|\n",
      "|  0.0|       0.0| 4163|\n",
      "+-----+----------+-----+\n",
      "\n"
     ]
    }
   ],
   "source": [
    "test_results_rf.groupBy('label', 'prediction').count().show()"
   ]
  },
  {
   "cell_type": "code",
   "execution_count": 45,
   "id": "61e02e54-ae20-4fc6-a438-177c80dee34e",
   "metadata": {},
   "outputs": [
    {
     "name": "stdout",
     "output_type": "stream",
     "text": [
      "Accuracy of model using Random Forest is: 0.7599055719105214\n"
     ]
    }
   ],
   "source": [
    "acc_eval_rf = MulticlassClassificationEvaluator()\n",
    "acc_rf = acc_eval_rf.evaluate(test_results_rf)\n",
    "print('Accuracy of model using Random Forest is: {}'.format(acc_rf))"
   ]
  },
  {
   "cell_type": "markdown",
   "id": "759417a9-f07e-4ea7-9cfc-ea7163518de0",
   "metadata": {},
   "source": [
    "- Naive Bayes has ~98.4% accuracy so we'll choose Naive Bayes"
   ]
  },
  {
   "cell_type": "code",
   "execution_count": null,
   "id": "69bfd93a-cbf5-43b8-93e0-92bb9956a529",
   "metadata": {},
   "outputs": [],
   "source": []
  }
 ],
 "metadata": {
  "kernelspec": {
   "display_name": "Python 3 (ipykernel)",
   "language": "python",
   "name": "python3"
  },
  "language_info": {
   "codemirror_mode": {
    "name": "ipython",
    "version": 3
   },
   "file_extension": ".py",
   "mimetype": "text/x-python",
   "name": "python",
   "nbconvert_exporter": "python",
   "pygments_lexer": "ipython3",
   "version": "3.8.9"
  }
 },
 "nbformat": 4,
 "nbformat_minor": 5
}
